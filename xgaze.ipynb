{
 "cells": [
  {
   "cell_type": "code",
   "execution_count": 1,
   "metadata": {},
   "outputs": [
    {
     "data": {
      "text/plain": [
       "<KeysViewHDF5 ['cam_index', 'face_gaze', 'face_head_pose', 'face_mat_norm', 'face_patch', 'frame_index']>"
      ]
     },
     "execution_count": 1,
     "metadata": {},
     "output_type": "execute_result"
    }
   ],
   "source": [
    "import h5py\n",
    "import cv2\n",
    "import warp_norm\n",
    "\n",
    "fileroot = '/home/hgh/hghData/xgaze_224/train/subject0000.h5'\n",
    "\n",
    "file = h5py.File(fileroot, 'r')\n",
    "file.keys()"
   ]
  },
  {
   "cell_type": "code",
   "execution_count": 12,
   "metadata": {},
   "outputs": [
    {
     "data": {
      "text/plain": [
       "array([[[ 12,  18,  20],\n",
       "        [ 11,  17,  18],\n",
       "        [ 11,  16,  18],\n",
       "        ...,\n",
       "        [ 23,  54,  15],\n",
       "        [ 22,  51,  11],\n",
       "        [ 28,  64,  21]],\n",
       "\n",
       "       [[ 15,  18,  22],\n",
       "        [ 12,  17,  20],\n",
       "        [ 14,  18,  22],\n",
       "        ...,\n",
       "        [ 28,  66,  16],\n",
       "        [ 25,  57,  16],\n",
       "        [ 21,  52,  13]],\n",
       "\n",
       "       [[ 16,  20,  22],\n",
       "        [ 12,  18,  20],\n",
       "        [ 16,  24,  32],\n",
       "        ...,\n",
       "        [ 31,  70,  21],\n",
       "        [ 23,  55,  17],\n",
       "        [ 22,  52,  15]],\n",
       "\n",
       "       ...,\n",
       "\n",
       "       [[ 43,  84, 137],\n",
       "        [ 51,  96, 150],\n",
       "        [ 51,  96, 151],\n",
       "        ...,\n",
       "        [ 11, 154, 196],\n",
       "        [ 12,  80,  60],\n",
       "        [ 27,  70,  23]],\n",
       "\n",
       "       [[ 41,  85, 140],\n",
       "        [ 46,  90, 144],\n",
       "        [ 52,  96, 150],\n",
       "        ...,\n",
       "        [  8, 152, 195],\n",
       "        [ 15,  91,  80],\n",
       "        [ 28,  72,  28]],\n",
       "\n",
       "       [[ 45,  89, 142],\n",
       "        [ 49,  89, 142],\n",
       "        [ 50,  95, 146],\n",
       "        ...,\n",
       "        [ 14, 155, 201],\n",
       "        [ 10,  96,  91],\n",
       "        [ 30,  74,  26]]], dtype=uint8)"
      ]
     },
     "execution_count": 12,
     "metadata": {},
     "output_type": "execute_result"
    }
   ],
   "source": [
    "file['frame_index'][1]"
   ]
  }
 ],
 "metadata": {
  "kernelspec": {
   "display_name": "GazeNormalization",
   "language": "python",
   "name": "python3"
  },
  "language_info": {
   "codemirror_mode": {
    "name": "ipython",
    "version": 3
   },
   "file_extension": ".py",
   "mimetype": "text/x-python",
   "name": "python",
   "nbconvert_exporter": "python",
   "pygments_lexer": "ipython3",
   "version": "3.8.18"
  }
 },
 "nbformat": 4,
 "nbformat_minor": 2
}
