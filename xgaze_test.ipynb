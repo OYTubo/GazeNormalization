{
 "cells": [
  {
   "cell_type": "code",
   "execution_count": 17,
   "metadata": {},
   "outputs": [],
   "source": [
    "import cv2\n",
    "import dlib\n",
    "from imutils import face_utils\n",
    "import numpy as np\n",
    "import warp_norm\n",
    "import os"
   ]
  },
  {
   "cell_type": "code",
   "execution_count": 18,
   "metadata": {},
   "outputs": [],
   "source": [
    "cam00 = './xgaze_test/cam00.xml'  # this is camera calibration information file obtained with OpenCV\n",
    "fs = cv2.FileStorage(cam00, cv2.FILE_STORAGE_READ)\n",
    "w = 1300\n",
    "h = 700\n",
    "pixel_scale_chen = 0.223427\n",
    "camera_matrix_chen = fs.getNode('Camera_Matrix').mat() # camera calibration information is used for data normalization\n",
    "camera_distortion_chen = fs.getNode('Distortion_Coefficients').mat()"
   ]
  },
  {
   "cell_type": "code",
   "execution_count": 24,
   "metadata": {},
   "outputs": [
    {
     "name": "stdout",
     "output_type": "stream",
     "text": [
      "load input face image:  ./xgaze_test/frame0000.JPG\n",
      "estimate head pose\n",
      "detected one face\n",
      "[[-0.56755206]\n",
      " [ 0.12827509]\n",
      " [-0.016625  ]]\n",
      "[[  1.04090876]\n",
      " [-10.32115937]\n",
      " [880.50956001]]\n",
      "data normalization, i.e. crop the face image\n"
     ]
    }
   ],
   "source": [
    "img_file_name = './xgaze_test/frame0000.JPG'\n",
    "print('load input face image: ', img_file_name)\n",
    "image = cv2.imread(img_file_name)\n",
    "\n",
    "# load camera information\n",
    "cam00 = './xgaze_test/cam00.xml'  # this is camera calibration information file obtained with OpenCV\n",
    "if not os.path.isfile(cam00):\n",
    "    print('no camera calibration file is found.')\n",
    "    exit(0)\n",
    "fs = cv2.FileStorage(cam00, cv2.FILE_STORAGE_READ)\n",
    "camera_matrix = fs.getNode('Camera_Matrix').mat() # camera calibration information is used for data normalization\n",
    "camera_distortion = fs.getNode('Distortion_Coefficients').mat()\n",
    "\n",
    "print('estimate head pose')\n",
    "hr, ht = warp_norm.xnorm_68(image, camera_matrix, camera_distortion)\n",
    "print(hr)\n",
    "print(ht)\n",
    "# data normalization method\n",
    "print('data normalization, i.e. crop the face image')\n",
    "# img_normalized, landmarks_normalized = normalizeData_face(image, face_model, landmarks_sub, hr, ht, camera_matrix)\n"
   ]
  }
 ],
 "metadata": {
  "kernelspec": {
   "display_name": "GazeNormalization",
   "language": "python",
   "name": "python3"
  },
  "language_info": {
   "codemirror_mode": {
    "name": "ipython",
    "version": 3
   },
   "file_extension": ".py",
   "mimetype": "text/x-python",
   "name": "python",
   "nbconvert_exporter": "python",
   "pygments_lexer": "ipython3",
   "version": "3.8.18"
  }
 },
 "nbformat": 4,
 "nbformat_minor": 2
}
