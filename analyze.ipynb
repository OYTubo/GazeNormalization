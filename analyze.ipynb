{
 "cells": [
  {
   "cell_type": "code",
   "execution_count": null,
   "metadata": {},
   "outputs": [],
   "source": [
    "import pandas as pd\n",
    "import numpy as np\n",
    "import warp_norm\n",
    "import cv2\n",
    "import matplotlib.pyplot as plt\n",
    "import os"
   ]
  },
  {
   "cell_type": "code",
   "execution_count": null,
   "metadata": {},
   "outputs": [],
   "source": [
    "data = pd.read_csv('/home/hgh/hghData/Datasets/preprocessed_labels.csv')\n",
    "image_path = data.loc[:, 'image_path']\n",
    "label = data.loc[:, 'label']\n",
    "results = np.loadtxt('./results.txt')"
   ]
  },
  {
   "cell_type": "code",
   "execution_count": null,
   "metadata": {},
   "outputs": [],
   "source": [
    "img = cv2.imread(image_path[105])\n",
    "print(label[105])\n",
    "cleaned_string = label[105].replace('\\n', '').replace(' ', '')\n",
    "# 将字符串切分成单个数字的列表\n",
    "numbers = cleaned_string.split('][')\n",
    "numbers[0] = numbers[0].lstrip('[')\n",
    "numbers[-1] = numbers[-1].rstrip(']')\n",
    "# 将字符串转换为浮点数，并重新组成 NumPy 数组\n",
    "numpy_array = np.array([float(num) for num in numbers]).reshape(3,1)\n",
    "gaze_img = warp_norm.draw_gaze(img, numpy_array, color = (0,255,0))\n",
    "gaze_img = warp_norm.draw_gaze(img, results[105])\n",
    "plt.imshow(cv2.cvtColor(gaze_img, cv2.COLOR_BGR2RGB))\n",
    "plt.show()"
   ]
  }
 ],
 "metadata": {
  "kernelspec": {
   "display_name": "GazeNormalization",
   "language": "python",
   "name": "python3"
  },
  "language_info": {
   "codemirror_mode": {
    "name": "ipython",
    "version": 3
   },
   "file_extension": ".py",
   "mimetype": "text/x-python",
   "name": "python",
   "nbconvert_exporter": "python",
   "pygments_lexer": "ipython3",
   "version": "3.8.18"
  }
 },
 "nbformat": 4,
 "nbformat_minor": 2
}
